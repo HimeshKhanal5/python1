{
 "cells": [
  {
   "cell_type": "code",
   "execution_count": null,
   "id": "8372671b-b622-4dc2-bc34-c0838ed75e46",
   "metadata": {},
   "outputs": [],
   "source": []
  },
  {
   "cell_type": "code",
   "execution_count": null,
   "id": "e3fe0e17-3aed-4cb5-a90e-2813845b92ee",
   "metadata": {},
   "outputs": [],
   "source": []
  },
  {
   "cell_type": "raw",
   "id": "b28627b9-7e78-4cdc-9cb8-e940b395dec7",
   "metadata": {},
   "source": []
  },
  {
   "cell_type": "code",
   "execution_count": null,
   "id": "c566092c-2137-4105-957b-4a6f97b4c299",
   "metadata": {},
   "outputs": [],
   "source": []
  },
  {
   "cell_type": "code",
   "execution_count": null,
   "id": "21a97966-792d-43ac-a2d7-8c5099b62d36",
   "metadata": {},
   "outputs": [],
   "source": []
  },
  {
   "cell_type": "code",
   "execution_count": null,
   "id": "dea775de-6297-48f4-ae79-d68d44e34d89",
   "metadata": {},
   "outputs": [],
   "source": []
  },
  {
   "cell_type": "code",
   "execution_count": null,
   "id": "a27b2488-f9db-4290-a26d-792e0d803dc5",
   "metadata": {},
   "outputs": [],
   "source": [
    "info=\"\"\n",
    "n=int(input('Enter n='))\n",
    "for i in range (1,n+1):\n",
    "    name=input('Enter name=')\n",
    "    age=int(input('Enter age='))\n",
    "    add=input('Enter add=')\n",
    "    phone=int(input('Enter phone='))\n",
    "    info=info+f\"{name},{age},{add},{phone}\\n\"\n",
    "file=open(\"info.csv\",\"w\")\n",
    "file.write(\"sn,name,age,add,phone\\n\")\n",
    "file.write(info)\n",
    "file.close()\n",
    "\n",
    "import panda as pd\n",
    "df=pd.read_csv('info.csv',index_col='sn')\n",
    "print(\"df\")\n"
   ]
  }
 ],
 "metadata": {
  "kernelspec": {
   "display_name": "Python 3 (ipykernel)",
   "language": "python",
   "name": "python3"
  },
  "language_info": {
   "codemirror_mode": {
    "name": "ipython",
    "version": 3
   },
   "file_extension": ".py",
   "mimetype": "text/x-python",
   "name": "python",
   "nbconvert_exporter": "python",
   "pygments_lexer": "ipython3",
   "version": "3.11.7"
  }
 },
 "nbformat": 4,
 "nbformat_minor": 5
}
