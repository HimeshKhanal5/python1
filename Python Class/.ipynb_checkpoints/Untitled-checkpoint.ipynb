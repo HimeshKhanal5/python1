{
 "cells": [
  {
   "cell_type": "code",
   "execution_count": 3,
   "id": "3dc4be9b-632c-4ee8-a147-664f1e87bd8e",
   "metadata": {},
   "outputs": [
    {
     "name": "stdin",
     "output_type": "stream",
     "text": [
      "Enter n= 2\n",
      "Enter name= jkf\n",
      "Enter age= 349\n",
      "Enter add= oifdj\n",
      "Enter phone= 0293570923\n",
      "Enter name= ifjd\n",
      "Enter age= 45\n",
      "Enter add= riefdj\n",
      "Enter phone= 9623\n"
     ]
    },
    {
     "name": "stdout",
     "output_type": "stream",
     "text": [
      "      name     age        add  phone\n",
      "sn                                  \n",
      "jkf    349   oifdj  293570923    NaN\n",
      "ifjd    45  riefdj       9623    NaN\n"
     ]
    }
   ],
   "source": [
    "info=\"\"\n",
    "n=int(input('Enter n='))\n",
    "for i in range (1,n+1):\n",
    "    name=input('Enter name=')\n",
    "    age=int(input('Enter age='))\n",
    "    add=input('Enter add=')\n",
    "    phone=int(input('Enter phone='))\n",
    "    info=info+f\"{name},{age},{add},{phone}\\n\"\n",
    "file=open(\"info.csv\",\"w\")\n",
    "file.write(\"sn,name,age,add,phone\\n\")\n",
    "file.write(info)\n",
    "file.close()\n",
    "\n",
    "import pandas as pd\n",
    "df = pd.read_csv('info.csv',index_col='sn')\n",
    "print(df.to_string())"
   ]
  },
  {
   "cell_type": "code",
   "execution_count": null,
   "id": "a598db87-bf59-4617-8025-0954df33c743",
   "metadata": {},
   "outputs": [],
   "source": []
  }
 ],
 "metadata": {
  "kernelspec": {
   "display_name": "Python 3 (ipykernel)",
   "language": "python",
   "name": "python3"
  },
  "language_info": {
   "codemirror_mode": {
    "name": "ipython",
    "version": 3
   },
   "file_extension": ".py",
   "mimetype": "text/x-python",
   "name": "python",
   "nbconvert_exporter": "python",
   "pygments_lexer": "ipython3",
   "version": "3.11.7"
  }
 },
 "nbformat": 4,
 "nbformat_minor": 5
}
