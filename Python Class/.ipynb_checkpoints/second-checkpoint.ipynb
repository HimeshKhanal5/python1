{
 "cells": [
  {
   "cell_type": "code",
   "execution_count": 1,
   "id": "03dddba6-ae57-432c-9d52-8869218e0ffd",
   "metadata": {},
   "outputs": [
    {
     "name": "stdin",
     "output_type": "stream",
     "text": [
      " 10\n"
     ]
    },
    {
     "name": "stdout",
     "output_type": "stream",
     "text": [
      "10\n"
     ]
    }
   ],
   "source": [
    "a=input()\n",
    "print(a)"
   ]
  },
  {
   "cell_type": "code",
   "execution_count": 2,
   "id": "bd66b6b7-c3b2-4716-93b6-cc5fcdd57356",
   "metadata": {},
   "outputs": [
    {
     "name": "stdin",
     "output_type": "stream",
     "text": [
      "enter a= 10\n",
      "enter b= 20\n"
     ]
    },
    {
     "name": "stdout",
     "output_type": "stream",
     "text": [
      "1020\n"
     ]
    }
   ],
   "source": [
    "a=input(\"enter a=\")\n",
    "b=input(\"enter b=\")\n",
    "print(a+b)"
   ]
  },
  {
   "cell_type": "code",
   "execution_count": 3,
   "id": "f854a7fc-d033-4849-83ea-c31da55cc669",
   "metadata": {},
   "outputs": [
    {
     "name": "stdin",
     "output_type": "stream",
     "text": [
      "enter a= 10\n",
      "enter b= 20\n"
     ]
    },
    {
     "name": "stdout",
     "output_type": "stream",
     "text": [
      "30\n"
     ]
    }
   ],
   "source": [
    "a=int(input(\"enter a=\"))\n",
    "b=int(input(\"enter b=\"))\n",
    "print(a+b)"
   ]
  },
  {
   "cell_type": "code",
   "execution_count": null,
   "id": "e6f7ec85-fb53-49ac-9145-2d783ad11a1a",
   "metadata": {},
   "outputs": [],
   "source": [
    "p=int(input(\"enter p=\"))\n",
    "t=float(input(\"enter t=\"))\n",
    "r=float(input(\"enter r=\"))\n",
    "\n",
    "si =p*t*r/100\n",
    "print(si)"
   ]
  },
  {
   "cell_type": "code",
   "execution_count": null,
   "id": "fd159cfc-4f94-42de-ab90-a2941d32349e",
   "metadata": {},
   "outputs": [],
   "source": [
    "physics=int(input(\"enter physics marks=\"))\n",
    "chemistry=int(input(\"enter chemistry marks=\"))\n",
    "maths=int(input(\"enter maths marks=\"))\n",
    "nepali=int(input(\"enter nepali marks=\"))\n",
    "english=int(input(\"enter english marks=\"))\n",
    "total=physics+chemistry+maths+english+nepali\n",
    "per=total/5\n",
    "print(\"The total marks=\",total)\n",
    "print(\"The per=\",per)"
   ]
  },
  {
   "cell_type": "code",
   "execution_count": 3,
   "id": "19f6fff0-0cf0-4090-afa5-21c8e7ba961c",
   "metadata": {},
   "outputs": [
    {
     "name": "stdin",
     "output_type": "stream",
     "text": [
      "enter=name= Himesh\n",
      "enter age= 18\n",
      "enter add= Patharisanichare\n"
     ]
    },
    {
     "name": "stdout",
     "output_type": "stream",
     "text": [
      "Hello World I am HimeshI am fromPatharisanichareI am18\n"
     ]
    }
   ],
   "source": [
    "name=input(\"enter=name=\")\n",
    "age=int(input(\"enter age=\"))\n",
    "add=input(\"enter add=\")\n",
    "info=\"Hello World I am \"+name+\"I am from\" +add +\"I am\"+str(age)\n",
    "print(info)"
   ]
  },
  {
   "cell_type": "code",
   "execution_count": 5,
   "id": "7882080f-4bfd-49f5-a066-fe406fc4776d",
   "metadata": {},
   "outputs": [
    {
     "name": "stdout",
     "output_type": "stream",
     "text": [
      "1020\n"
     ]
    }
   ],
   "source": [
    "a=10\n",
    "b=\"20\"\n",
    "print(str(a)+b)"
   ]
  },
  {
   "cell_type": "code",
   "execution_count": null,
   "id": "b876d572-1807-4d5f-b389-f2ecf626872f",
   "metadata": {},
   "outputs": [],
   "source": [
    "# int() float() str() bool()"
   ]
  },
  {
   "cell_type": "code",
   "execution_count": 6,
   "id": "41a919ad-a44c-47ca-aa0e-84dc047c2566",
   "metadata": {},
   "outputs": [
    {
     "name": "stdout",
     "output_type": "stream",
     "text": [
      "10\n",
      "10.0\n"
     ]
    }
   ],
   "source": [
    "a=10\n",
    "b=str(a)\n",
    "c=float(a)\n",
    "print(b)\n",
    "print(c)"
   ]
  },
  {
   "cell_type": "code",
   "execution_count": 8,
   "id": "a0005334-502f-4d06-bd81-23165e004fff",
   "metadata": {},
   "outputs": [
    {
     "name": "stdout",
     "output_type": "stream",
     "text": [
      "10\n"
     ]
    },
    {
     "data": {
      "text/plain": [
       "'10.5'"
      ]
     },
     "execution_count": 8,
     "metadata": {},
     "output_type": "execute_result"
    }
   ],
   "source": [
    "a=10.5\n",
    "b=int(a)\n",
    "c=str(a)\n",
    "print(b)\n",
    "c"
   ]
  },
  {
   "cell_type": "code",
   "execution_count": 9,
   "id": "454709fc-9aee-431c-855e-81cb9f4de983",
   "metadata": {},
   "outputs": [
    {
     "data": {
      "text/plain": [
       "True"
      ]
     },
     "execution_count": 9,
     "metadata": {},
     "output_type": "execute_result"
    }
   ],
   "source": [
    "a=1\n",
    "b=bool(a)\n",
    "b"
   ]
  },
  {
   "cell_type": "code",
   "execution_count": 11,
   "id": "bd2c3f53-8e92-4f1d-b79c-9f3ca097a5e7",
   "metadata": {},
   "outputs": [
    {
     "data": {
      "text/plain": [
       "False"
      ]
     },
     "execution_count": 11,
     "metadata": {},
     "output_type": "execute_result"
    }
   ],
   "source": [
    "a=0.0\n",
    "b=bool(a)\n",
    "b"
   ]
  },
  {
   "cell_type": "code",
   "execution_count": null,
   "id": "6b130154-6af9-414d-b83f-d1b069ebfbea",
   "metadata": {},
   "outputs": [],
   "source": []
  },
  {
   "cell_type": "code",
   "execution_count": null,
   "id": "8498261e-639d-48c7-8ff7-c8ef5e07a703",
   "metadata": {},
   "outputs": [],
   "source": []
  },
  {
   "cell_type": "code",
   "execution_count": null,
   "id": "34c44542-25ff-429a-a0dc-759872a27f81",
   "metadata": {},
   "outputs": [],
   "source": []
  },
  {
   "cell_type": "code",
   "execution_count": null,
   "id": "01885fd4-13ab-480b-a9e1-32b439fc84b2",
   "metadata": {},
   "outputs": [],
   "source": []
  },
  {
   "cell_type": "code",
   "execution_count": null,
   "id": "c3b25a8f-d4b3-4394-a406-f33a7ec9755e",
   "metadata": {},
   "outputs": [],
   "source": []
  },
  {
   "cell_type": "code",
   "execution_count": null,
   "id": "f5024462-0012-4802-8d1e-716a43a34a9e",
   "metadata": {},
   "outputs": [],
   "source": []
  }
 ],
 "metadata": {
  "kernelspec": {
   "display_name": "Python 3 (ipykernel)",
   "language": "python",
   "name": "python3"
  },
  "language_info": {
   "codemirror_mode": {
    "name": "ipython",
    "version": 3
   },
   "file_extension": ".py",
   "mimetype": "text/x-python",
   "name": "python",
   "nbconvert_exporter": "python",
   "pygments_lexer": "ipython3",
   "version": "3.11.7"
  }
 },
 "nbformat": 4,
 "nbformat_minor": 5
}
