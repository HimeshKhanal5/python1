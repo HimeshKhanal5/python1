{
 "cells": [
  {
   "cell_type": "code",
   "execution_count": null,
   "id": "f48ce583-998d-4c0d-b4d8-cde1b09046f6",
   "metadata": {},
   "outputs": [],
   "source": [
    "# file=open(<file_name>,<mode>)\n",
    "# file.close()\n",
    "# with open(<file name>,<mode>) as file:\n",
    "#     <operation>"
   ]
  },
  {
   "cell_type": "code",
   "execution_count": null,
   "id": "ec526e21-7234-463b-9e91-56b833ecaa46",
   "metadata": {},
   "outputs": [],
   "source": [
    "# Mode \n",
    "# create mode >x\n",
    "# read mode>r\n",
    "# write mode>w\n",
    "# append mode>a"
   ]
  },
  {
   "cell_type": "code",
   "execution_count": null,
   "id": "46772c1c-1288-481a-8982-b52858932600",
   "metadata": {},
   "outputs": [],
   "source": [
    "file=open('data.txt','x')\n",
    "file.close()"
   ]
  },
  {
   "cell_type": "code",
   "execution_count": null,
   "id": "c0a07f03-4579-4f3d-a880-7cd4e041553c",
   "metadata": {},
   "outputs": [],
   "source": [
    "file=open('data.txt','r')\n",
    "x=file.read()\n",
    "print(x)\n",
    "file.close()"
   ]
  }
 ],
 "metadata": {
  "kernelspec": {
   "display_name": "Python 3 (ipykernel)",
   "language": "python",
   "name": "python3"
  },
  "language_info": {
   "codemirror_mode": {
    "name": "ipython",
    "version": 3
   },
   "file_extension": ".py",
   "mimetype": "text/x-python",
   "name": "python",
   "nbconvert_exporter": "python",
   "pygments_lexer": "ipython3",
   "version": "3.11.7"
  }
 },
 "nbformat": 4,
 "nbformat_minor": 5
}
