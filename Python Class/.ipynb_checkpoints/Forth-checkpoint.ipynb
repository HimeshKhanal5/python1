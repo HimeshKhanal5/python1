{
 "cells": [
  {
   "cell_type": "code",
   "execution_count": 1,
   "id": "512e1797-bf4b-441f-b2a0-39594d6dde32",
   "metadata": {},
   "outputs": [],
   "source": [
    "#or\n",
    "#and"
   ]
  },
  {
   "cell_type": "code",
   "execution_count": 2,
   "id": "1f36ad31-b657-4645-8699-b9e66eb7aa7f",
   "metadata": {},
   "outputs": [
    {
     "name": "stdout",
     "output_type": "stream",
     "text": [
      "True\n",
      "True\n",
      "True\n",
      "False\n"
     ]
    }
   ],
   "source": [
    "#or\n",
    "print(True or True)\n",
    "print(False or True)\n",
    "print(True or False)\n",
    "print(False or False)"
   ]
  },
  {
   "cell_type": "code",
   "execution_count": 3,
   "id": "361c7322-7b7a-4f35-a48f-372986a0f1eb",
   "metadata": {},
   "outputs": [
    {
     "name": "stdout",
     "output_type": "stream",
     "text": [
      "True\n",
      "False\n",
      "False\n",
      "False\n"
     ]
    }
   ],
   "source": [
    "#and\n",
    "print(True and True)\n",
    "print(False and True)\n",
    "print(True and False)\n",
    "print(False and False)"
   ]
  },
  {
   "cell_type": "code",
   "execution_count": null,
   "id": "465033d4-867f-45b4-bb33-c1e1738d8914",
   "metadata": {},
   "outputs": [],
   "source": [
    "#WAP to find if the no is +ve or not and odd or even \n",
    "a=int(input(\"enter a=\"))\n",
    "if a >=0 & a%2==0:\n",
    "    print(\"the number is +ve & even\")\n",
    "elif a >=0 & a%2!=0:\n",
    "    print(\"the number is & odd\")\n",
    "elif a<0 & a%2==0:\n",
    "    print(\"the number is -ve & even\")\n",
    "else:\n",
    "    print(\"the number is -ve & odd\")"
   ]
  },
  {
   "cell_type": "code",
   "execution_count": 1,
   "id": "2dcfc1b7-277d-4202-844b-50fa996d91df",
   "metadata": {},
   "outputs": [
    {
     "name": "stdin",
     "output_type": "stream",
     "text": [
      "Enter maths marks= 25\n",
      "Enter english marks= 35\n",
      "Enter science marks= 465\n"
     ]
    },
    {
     "name": "stdout",
     "output_type": "stream",
     "text": [
      "your total= 525\n",
      "per= 175.0\n",
      "grade= A\n"
     ]
    }
   ],
   "source": [
    "#or\n",
    "maths=int(input(\"Enter maths marks=\"))\n",
    "english=int(input(\"Enter english marks=\"))\n",
    "science=int(input(\"Enter science marks=\"))\n",
    "total=maths+english+science\n",
    "per=total/3\n",
    "if per>80 or per==80:\n",
    "    grade='A'\n",
    "elif per>60 or per==60:\n",
    "    grade='B'\n",
    "elif per>40 or per==40:\n",
    "    grade='C'\n",
    "else:\n",
    "    grade>='F'\n",
    "print(\"your total=\",total)\n",
    "print(\"per=\",per)\n",
    "print(\"grade=\",grade)"
   ]
  },
  {
   "cell_type": "code",
   "execution_count": 3,
   "id": "24361b84-d9d1-4907-baf2-98519a7b85b5",
   "metadata": {},
   "outputs": [
    {
     "name": "stdin",
     "output_type": "stream",
     "text": [
      "Enter maths marks= 65\n",
      "Enter english marks= 35\n",
      "Enter science marks= 45\n"
     ]
    },
    {
     "name": "stdout",
     "output_type": "stream",
     "text": [
      "your total= 145\n",
      "per= 48.333333333333336\n",
      "grade= C\n"
     ]
    }
   ],
   "source": [
    "#and\n",
    "maths=int(input(\"Enter maths marks=\"))\n",
    "english=int(input(\"Enter english marks=\"))\n",
    "science=int(input(\"Enter science marks=\"))\n",
    "total=maths+english+science\n",
    "per=total/3\n",
    "if per>80 and per==80:\n",
    "    grade='A'\n",
    "elif per>60 and per==60:\n",
    "    grade='B'\n",
    "elif per>40 and per==40:\n",
    "    grade='C'\n",
    "else:\n",
    "    grade>='F'\n",
    "print(\"your total=\",total)\n",
    "print(\"per=\",per)\n",
    "print(\"grade=\",grade)"
   ]
  },
  {
   "cell_type": "code",
   "execution_count": 2,
   "id": "9ec20129-b084-4d64-b3d2-c5dc30ccca74",
   "metadata": {},
   "outputs": [],
   "source": [
    "# mested ifelse statement\n",
    "#if<condition>:\n",
    "#    if<condition>:\n",
    "#       <operation>\n",
    "#    else:\n",
    "#        <operation>\n",
    "#else:\n",
    "#    <operation>"
   ]
  },
  {
   "cell_type": "code",
   "execution_count": 2,
   "id": "152a89d6-145a-4434-a75f-b318f4437a29",
   "metadata": {},
   "outputs": [
    {
     "name": "stdin",
     "output_type": "stream",
     "text": [
      "Enter maths marks= 75\n",
      "Enter english marks= 75\n",
      "Enter science marks= 75\n"
     ]
    },
    {
     "name": "stdout",
     "output_type": "stream",
     "text": [
      "fail\n"
     ]
    }
   ],
   "source": [
    "maths=int(input(\"Enter maths marks=\"))\n",
    "english=int(input(\"Enter english marks=\"))\n",
    "science=int(input(\"Enter science marks=\"))\n",
    "if maths>=32 & english>=32 & science>=32:\n",
    "    total=maths+english+science\n",
    "    per=total/3\n",
    "    if per>=80:\n",
    "        grade='A'\n",
    "    elif per>=60:\n",
    "        grade='B'\n",
    "    elif per>=40:\n",
    "        grade='C'\n",
    "    else:\n",
    "        grade>='F'\n",
    "    print(\"your total=\",total)\n",
    "    print(\"per=\",per)\n",
    "    print(\"grade=\",grade)\n",
    "    print(\"pass\")\n",
    "else:\n",
    "    print(\"fail\")"
   ]
  },
  {
   "cell_type": "markdown",
   "id": "705e2109-4280-4899-b445-b09d466c07ea",
   "metadata": {},
   "source": [
    "##### 75"
   ]
  },
  {
   "cell_type": "code",
   "execution_count": null,
   "id": "9641327b-940e-43f2-b8b9-66cc031d1b88",
   "metadata": {},
   "outputs": [],
   "source": []
  },
  {
   "cell_type": "code",
   "execution_count": null,
   "id": "55920db9-a116-4a53-8fed-dc54abe9f4d2",
   "metadata": {},
   "outputs": [],
   "source": []
  }
 ],
 "metadata": {
  "kernelspec": {
   "display_name": "Python 3 (ipykernel)",
   "language": "python",
   "name": "python3"
  },
  "language_info": {
   "codemirror_mode": {
    "name": "ipython",
    "version": 3
   },
   "file_extension": ".py",
   "mimetype": "text/x-python",
   "name": "python",
   "nbconvert_exporter": "python",
   "pygments_lexer": "ipython3",
   "version": "3.11.7"
  }
 },
 "nbformat": 4,
 "nbformat_minor": 5
}
