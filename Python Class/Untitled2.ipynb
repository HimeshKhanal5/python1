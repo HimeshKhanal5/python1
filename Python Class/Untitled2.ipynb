{
 "cells": [
  {
   "cell_type": "code",
   "execution_count": 3,
   "id": "85da2b90-008f-4dc8-bc40-702550b93c0b",
   "metadata": {},
   "outputs": [
    {
     "name": "stdout",
     "output_type": "stream",
     "text": [
      "Requirement already satisfied: mysql-connector-python in c:\\users\\dell\\anaconda3\\lib\\site-packages (8.4.0)\n"
     ]
    }
   ],
   "source": [
    "!pip install mysql-connector-python"
   ]
  },
  {
   "cell_type": "code",
   "execution_count": 11,
   "id": "3e6caec4-f36d-415b-b58e-1b08aebc5d58",
   "metadata": {},
   "outputs": [],
   "source": [
    "import mysql.connector\n",
    "database=mysql.connector.connect(\n",
    "    host=\"localhost\",\n",
    "    user=\"root\",\n",
    "    password=\"\",\n",
    "    database=\"student\")\n",
    "db=database.cursor()"
   ]
  },
  {
   "cell_type": "code",
   "execution_count": 12,
   "id": "d62a1f14-00d7-41aa-8d37-cc2caaf3a713",
   "metadata": {},
   "outputs": [
    {
     "name": "stdout",
     "output_type": "stream",
     "text": [
      "(33, 36, 66, 88)\n",
      "(33, 36, 66, 88)\n",
      "(44, 45, 22, 22)\n",
      "(44, 45, 22, 22)\n",
      "(44, 45, 22, 22)\n",
      "(44, 45, 22, 22)\n"
     ]
    }
   ],
   "source": [
    "db.execute(\"SELECT * FROM student1\")\n",
    "result=db.fetchall()\n",
    "for x in result:\n",
    "    print(x)"
   ]
  },
  {
   "cell_type": "code",
   "execution_count": 13,
   "id": "96e4c2bf-b9aa-4c99-9f26-54bc0fd0d7dd",
   "metadata": {},
   "outputs": [],
   "source": [
    "sql='''INSERT INTO `student1` (`science`, `maths`, `english`, `nepali`) VALUES ('44', '45', '22', '22');'''\n",
    "db.execute(sql)\n",
    "database.commit()"
   ]
  },
  {
   "cell_type": "code",
   "execution_count": 22,
   "id": "3f35dcae-4392-4560-b6fd-869698ed64b3",
   "metadata": {},
   "outputs": [
    {
     "name": "stdin",
     "output_type": "stream",
     "text": [
      "Enter n= 2\n",
      "Enter name= Ram\n",
      "Enter physics marks= 75\n",
      "Enter english marks= 75\n",
      "Enter maths marks= 75\n",
      "Enter nepali marks= 75\n",
      "Enter name= Sam\n",
      "Enter physics marks= 75\n",
      "Enter english marks= 75\n",
      "Enter maths marks= 75\n",
      "Enter nepali marks= 75\n"
     ]
    },
    {
     "ename": "ProgrammingError",
     "evalue": "Cannot operate on a closed database.",
     "output_type": "error",
     "traceback": [
      "\u001b[1;31m---------------------------------------------------------------------------\u001b[0m",
      "\u001b[1;31mProgrammingError\u001b[0m                          Traceback (most recent call last)",
      "Cell \u001b[1;32mIn[22], line 22\u001b[0m\n\u001b[0;32m     19\u001b[0m         grade\u001b[38;5;241m=\u001b[39m\u001b[38;5;124m'\u001b[39m\u001b[38;5;124mF\u001b[39m\u001b[38;5;124m'\u001b[39m\n\u001b[0;32m     20\u001b[0m     sql\u001b[38;5;241m=\u001b[39m\u001b[38;5;124mf\u001b[39m\u001b[38;5;124m'''\u001b[39m\u001b[38;5;124mINSERT INTO `student1`(`name`,`physics`,`english`,`maths`,`nepali`,`total`,`per`,`grade`)\u001b[39m\n\u001b[0;32m     21\u001b[0m \u001b[38;5;124m    VALUES(\u001b[39m\u001b[38;5;124m'\u001b[39m\u001b[38;5;132;01m{\u001b[39;00mname\u001b[38;5;132;01m}\u001b[39;00m\u001b[38;5;124m'\u001b[39m\u001b[38;5;124m,\u001b[39m\u001b[38;5;124m'\u001b[39m\u001b[38;5;132;01m{\u001b[39;00mphysics\u001b[38;5;132;01m}\u001b[39;00m\u001b[38;5;124m'\u001b[39m\u001b[38;5;124m,\u001b[39m\u001b[38;5;124m'\u001b[39m\u001b[38;5;132;01m{\u001b[39;00menglish\u001b[38;5;132;01m}\u001b[39;00m\u001b[38;5;124m'\u001b[39m\u001b[38;5;124m,\u001b[39m\u001b[38;5;124m'\u001b[39m\u001b[38;5;132;01m{\u001b[39;00mmaths\u001b[38;5;132;01m}\u001b[39;00m\u001b[38;5;124m'\u001b[39m\u001b[38;5;124m,\u001b[39m\u001b[38;5;124m'\u001b[39m\u001b[38;5;132;01m{\u001b[39;00mnepali\u001b[38;5;132;01m}\u001b[39;00m\u001b[38;5;124m'\u001b[39m\u001b[38;5;124m,\u001b[39m\u001b[38;5;124m'\u001b[39m\u001b[38;5;132;01m{\u001b[39;00mtotal\u001b[38;5;132;01m}\u001b[39;00m\u001b[38;5;124m'\u001b[39m\u001b[38;5;124m,\u001b[39m\u001b[38;5;124m'\u001b[39m\u001b[38;5;132;01m{\u001b[39;00mper\u001b[38;5;132;01m}\u001b[39;00m\u001b[38;5;124m'\u001b[39m\u001b[38;5;124m,\u001b[39m\u001b[38;5;124m'\u001b[39m\u001b[38;5;132;01m{\u001b[39;00mgrade\u001b[38;5;132;01m}\u001b[39;00m\u001b[38;5;124m'\u001b[39m\u001b[38;5;124m)\u001b[39m\u001b[38;5;124m'''\u001b[39m\n\u001b[1;32m---> 22\u001b[0m db\u001b[38;5;241m.\u001b[39mexecute(sql)\n\u001b[0;32m     23\u001b[0m database\u001b[38;5;241m.\u001b[39mcommit()\n",
      "\u001b[1;31mProgrammingError\u001b[0m: Cannot operate on a closed database."
     ]
    }
   ],
   "source": [
    "n=int(input(\"Enter n=\"))\n",
    "for i in range(1,n+1):\n",
    "    name=input(\"Enter name=\")\n",
    "    physics=int(input(\"Enter physics marks=\"))\n",
    "    english=int(input(\"Enter english marks=\"))\n",
    "    maths=int(input(\"Enter maths marks=\"))\n",
    "    nepali=int(input(\"Enter nepali marks=\"))\n",
    "    total=physics+english+maths+nepali\n",
    "    per=total/4\n",
    "    if per>=80:\n",
    "        grade='A'\n",
    "    elif per>=60:\n",
    "        grade='B'\n",
    "    elif per>=40:\n",
    "        grade='C'\n",
    "    elif per>=28:\n",
    "        grade='D'\n",
    "    else:\n",
    "        grade='F'\n",
    "    sql=f'''INSERT INTO `student1`(`name`,`physics`,`english`,`maths`,`nepali`,`total`,`per`,`grade`)\n",
    "    VALUES('{name}','{physics}','{english}','{maths}','{nepali}','{total}','{per}','{grade}')'''\n",
    "db.execute(sql)\n",
    "database.commit()"
   ]
  },
  {
   "cell_type": "code",
   "execution_count": null,
   "id": "fb125e5f-1bd9-4409-8838-59984e31f86c",
   "metadata": {},
   "outputs": [],
   "source": []
  }
 ],
 "metadata": {
  "kernelspec": {
   "display_name": "Python 3 (ipykernel)",
   "language": "python",
   "name": "python3"
  },
  "language_info": {
   "codemirror_mode": {
    "name": "ipython",
    "version": 3
   },
   "file_extension": ".py",
   "mimetype": "text/x-python",
   "name": "python",
   "nbconvert_exporter": "python",
   "pygments_lexer": "ipython3",
   "version": "3.11.7"
  }
 },
 "nbformat": 4,
 "nbformat_minor": 5
}
