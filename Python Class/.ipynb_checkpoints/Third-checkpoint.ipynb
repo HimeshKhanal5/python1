{
 "cells": [
  {
   "cell_type": "code",
   "execution_count": null,
   "id": "78a58969-5e06-4bd2-b44b-429d62e93b49",
   "metadata": {},
   "outputs": [],
   "source": [
    "# conditional statement\n",
    "# loop\n",
    "#if else statements"
   ]
  },
  {
   "cell_type": "code",
   "execution_count": 1,
   "id": "b771e1de-7bae-4699-9b44-a80b073c962c",
   "metadata": {},
   "outputs": [],
   "source": [
    "#if eles statement\n",
    "#if <condition>:\n",
    "#    <operations>\n",
    "#elif <condition>:\n",
    "#     <operations>\n",
    "#else:\n",
    "#      <operations>"
   ]
  },
  {
   "cell_type": "code",
   "execution_count": 3,
   "id": "fe461fa5-85b7-434f-aae6-54eae93656d8",
   "metadata": {},
   "outputs": [
    {
     "name": "stdin",
     "output_type": "stream",
     "text": [
      "Enter age= 20\n"
     ]
    },
    {
     "name": "stdout",
     "output_type": "stream",
     "text": [
      "Welcome\n"
     ]
    }
   ],
   "source": [
    "#comperasion operators\n",
    "#<> <= >= == !=\n",
    "age = int(input(\"Enter age=\"))\n",
    "if age>=20:\n",
    "    print(\"Welcome\")\n",
    "else:\n",
    "    print(\"You are under age\")"
   ]
  },
  {
   "cell_type": "code",
   "execution_count": 5,
   "id": "6355643b-0ef3-4210-9afd-3802b03f59a0",
   "metadata": {},
   "outputs": [
    {
     "name": "stdin",
     "output_type": "stream",
     "text": [
      "Enter a = 100\n"
     ]
    },
    {
     "name": "stdout",
     "output_type": "stream",
     "text": [
      "the given no is even\n"
     ]
    }
   ],
   "source": [
    "a=int(input(\"Enter a =\"))\n",
    "if a%2==0:\n",
    "    print(\"the given no is even\")\n",
    "else:\n",
    "    print(\"the given no is odd\")"
   ]
  },
  {
   "cell_type": "code",
   "execution_count": 7,
   "id": "8fd91b02-b3f7-4cef-85e5-818b3924427c",
   "metadata": {},
   "outputs": [
    {
     "name": "stdin",
     "output_type": "stream",
     "text": [
      "Enter a= 10\n",
      "Enter b= 20\n"
     ]
    },
    {
     "name": "stdout",
     "output_type": "stream",
     "text": [
      "b is greater\n"
     ]
    }
   ],
   "source": [
    "a=int(input(\"Enter a=\"))\n",
    "b=int(input(\"Enter b=\"))\n",
    "if a>b:\n",
    "       print(\"a is greater\")\n",
    "elif b>a:\n",
    "     print(\"b is greater\")\n",
    "else:\n",
    "      print(\"both is greater\")       \n",
    "            "
   ]
  },
  {
   "cell_type": "code",
   "execution_count": 4,
   "id": "506fba22-0793-487a-a0e5-0098e810b470",
   "metadata": {},
   "outputs": [
    {
     "name": "stdin",
     "output_type": "stream",
     "text": [
      "enter physics marks= 25\n",
      "enter chemistry marks= 35\n",
      "enter maths marks= 45\n",
      "enter nepali marks= 55\n",
      "enter english marks= 65\n"
     ]
    },
    {
     "name": "stdout",
     "output_type": "stream",
     "text": [
      "your total= 225\n",
      "per= 45.0\n",
      "grade= C\n"
     ]
    }
   ],
   "source": [
    "physics=int(input(\"enter physics marks=\"))\n",
    "chemistry=int(input(\"enter chemistry marks=\"))\n",
    "maths=int(input(\"enter maths marks=\"))\n",
    "nepali=int(input(\"enter nepali marks=\"))\n",
    "english=int(input(\"enter english marks=\"))\n",
    "total=physics+chemistry+maths+english+nepali\n",
    "per=total/5\n",
    "if per>=80:\n",
    "    grade='A'\n",
    "elif per>=60:\n",
    "     grade='B'\n",
    "elif per>=45:\n",
    "     grade='C'\n",
    "else:\n",
    "    grade>='F'\n",
    "print(\"your total=\",total)\n",
    "print(\"per=\",per)\n",
    "print(\"grade=\",grade)"
   ]
  },
  {
   "cell_type": "code",
   "execution_count": 7,
   "id": "8f1fc165-e8e8-4ba0-879a-0ca894d07f79",
   "metadata": {},
   "outputs": [
    {
     "name": "stdin",
     "output_type": "stream",
     "text": [
      "Enter a= 4\n",
      "Enter b= 2\n",
      "Enter +or -or *or / /\n"
     ]
    },
    {
     "name": "stdout",
     "output_type": "stream",
     "text": [
      "2.0\n"
     ]
    }
   ],
   "source": [
    "a=int(input(\"Enter a=\"))\n",
    "b=int(input(\"Enter b=\"))\n",
    "o=input(\"Enter +or -or *or /\")\n",
    "if o=='+':\n",
    "    print(a+b)\n",
    "elif o=='-':\n",
    "    print(a-b)\n",
    "elif o=='*':\n",
    "    print(a*b)\n",
    "elif o=='/':\n",
    "    print(a/b)\n",
    "else:\n",
    "    print(\"Invalid Operator\")"
   ]
  },
  {
   "cell_type": "code",
   "execution_count": null,
   "id": "f8879e8c-9faf-4a43-81f4-7e7616467452",
   "metadata": {},
   "outputs": [],
   "source": []
  }
 ],
 "metadata": {
  "kernelspec": {
   "display_name": "Python 3 (ipykernel)",
   "language": "python",
   "name": "python3"
  },
  "language_info": {
   "codemirror_mode": {
    "name": "ipython",
    "version": 3
   },
   "file_extension": ".py",
   "mimetype": "text/x-python",
   "name": "python",
   "nbconvert_exporter": "python",
   "pygments_lexer": "ipython3",
   "version": "3.11.7"
  }
 },
 "nbformat": 4,
 "nbformat_minor": 5
}
