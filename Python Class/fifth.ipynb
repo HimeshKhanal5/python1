{
 "cells": [
  {
   "cell_type": "code",
   "execution_count": 1,
   "id": "fc436155-6c5a-4e40-9f39-97963699e104",
   "metadata": {},
   "outputs": [],
   "source": [
    "#loop\n",
    "#for loop\n",
    "#while loop"
   ]
  },
  {
   "cell_type": "code",
   "execution_count": null,
   "id": "faedd1a4-8e7c-4f92-8984-cc08b838e06a",
   "metadata": {},
   "outputs": [],
   "source": [
    "#for loop\n",
    "# range(5)   0,1,2,3,4\n",
    "# range(1,5)  1,2,3,4\n",
    "# range(1,5,0) 0,2,4"
   ]
  },
  {
   "cell_type": "code",
   "execution_count": 2,
   "id": "54e24720-99f9-4353-8d8d-b00d7c459f7d",
   "metadata": {},
   "outputs": [
    {
     "name": "stdout",
     "output_type": "stream",
     "text": [
      "0 Hello World\n",
      "1 Hello World\n",
      "2 Hello World\n",
      "3 Hello World\n",
      "4 Hello World\n"
     ]
    }
   ],
   "source": [
    "for i in range(5):\n",
    "    print(i,\"Hello World\")"
   ]
  },
  {
   "cell_type": "code",
   "execution_count": 3,
   "id": "28b8b796-df2a-4d92-b35a-351be63312eb",
   "metadata": {},
   "outputs": [
    {
     "name": "stdout",
     "output_type": "stream",
     "text": [
      "1 Hello World\n",
      "2 Hello World\n",
      "3 Hello World\n",
      "4 Hello World\n"
     ]
    }
   ],
   "source": [
    "for i in range(1,5):\n",
    "    print(i,\"Hello World\")"
   ]
  },
  {
   "cell_type": "code",
   "execution_count": 4,
   "id": "3aafd893-048c-4900-a15c-351a2aeb4a10",
   "metadata": {},
   "outputs": [
    {
     "name": "stdout",
     "output_type": "stream",
     "text": [
      "0 Hello World\n",
      "2 Hello World\n",
      "4 Hello World\n"
     ]
    }
   ],
   "source": [
    "for i in range(0,5,2):\n",
    "    print(i,\"Hello World\")"
   ]
  },
  {
   "cell_type": "code",
   "execution_count": 5,
   "id": "8178457b-c19e-4de6-8d4d-8161b8ab4559",
   "metadata": {},
   "outputs": [
    {
     "name": "stdin",
     "output_type": "stream",
     "text": [
      "Enter n= 2\n"
     ]
    },
    {
     "name": "stdout",
     "output_type": "stream",
     "text": [
      "2\n",
      "4\n",
      "6\n",
      "8\n",
      "10\n",
      "12\n",
      "14\n",
      "16\n",
      "18\n",
      "20\n"
     ]
    }
   ],
   "source": [
    "n=int(input(\"Enter n=\"))\n",
    "for i in range(1,11):\n",
    "    print(n*i)"
   ]
  },
  {
   "cell_type": "code",
   "execution_count": 6,
   "id": "36539114-013b-477a-ac54-479ffa544955",
   "metadata": {},
   "outputs": [
    {
     "name": "stdin",
     "output_type": "stream",
     "text": [
      "Enter n= 2\n"
     ]
    },
    {
     "name": "stdout",
     "output_type": "stream",
     "text": [
      "2 * 1 = 2\n",
      "2 * 2 = 4\n",
      "2 * 3 = 6\n",
      "2 * 4 = 8\n",
      "2 * 5 = 10\n",
      "2 * 6 = 12\n",
      "2 * 7 = 14\n",
      "2 * 8 = 16\n",
      "2 * 9 = 18\n",
      "2 * 10 = 20\n"
     ]
    }
   ],
   "source": [
    "n=int(input(\"Enter n=\"))\n",
    "for i in range(1,11):\n",
    "    print(n,\"*\",i,\"=\",n*i)"
   ]
  },
  {
   "cell_type": "code",
   "execution_count": 7,
   "id": "67c0c8a5-e18d-48ac-a4f3-b4601a8f8eb5",
   "metadata": {},
   "outputs": [
    {
     "name": "stdin",
     "output_type": "stream",
     "text": [
      "Enter x= 2\n"
     ]
    },
    {
     "name": "stdout",
     "output_type": "stream",
     "text": [
      "You Entered  2\n"
     ]
    },
    {
     "name": "stdin",
     "output_type": "stream",
     "text": [
      "Enter x= 4\n"
     ]
    },
    {
     "name": "stdout",
     "output_type": "stream",
     "text": [
      "You Entered  4\n"
     ]
    },
    {
     "name": "stdin",
     "output_type": "stream",
     "text": [
      "Enter x= 6\n"
     ]
    },
    {
     "name": "stdout",
     "output_type": "stream",
     "text": [
      "You Entered  6\n"
     ]
    }
   ],
   "source": [
    "for i in range(3):\n",
    "    x=input(\"Enter x=\")\n",
    "    print(\"You Entered \", x)\n"
   ]
  },
  {
   "cell_type": "code",
   "execution_count": 2,
   "id": "680e232c-5348-4726-bb58-97b62f96b6c0",
   "metadata": {},
   "outputs": [
    {
     "name": "stdin",
     "output_type": "stream",
     "text": [
      "Enter x= 100\n",
      "Enter x= 200\n",
      "Enter x= 300\n"
     ]
    },
    {
     "name": "stdout",
     "output_type": "stream",
     "text": [
      "600\n"
     ]
    }
   ],
   "source": [
    "a=0\n",
    "for i in range(3):\n",
    "    x=int(input(\"Enter x=\"))\n",
    "    a=a+x\n",
    "print(a)"
   ]
  },
  {
   "cell_type": "code",
   "execution_count": 2,
   "id": "2a4b4226-e7da-4363-94d9-7ad6eed615f5",
   "metadata": {},
   "outputs": [
    {
     "name": "stdin",
     "output_type": "stream",
     "text": [
      "Enter x= Ram\n",
      "Enter x= Sam\n",
      "Enter x= Hari\n"
     ]
    },
    {
     "name": "stdout",
     "output_type": "stream",
     "text": [
      "Ram\n",
      "Sam\n",
      "Hari\n",
      "\n"
     ]
    }
   ],
   "source": [
    "a=\"\"\n",
    "for i in range (3):\n",
    "    x=input(\"Enter x=\")\n",
    "    a=a+x+\"\\n\"\n",
    "print(a)"
   ]
  },
  {
   "cell_type": "code",
   "execution_count": 2,
   "id": "6cfed19a-4108-4c50-a6a1-64a4b6f668b1",
   "metadata": {},
   "outputs": [
    {
     "name": "stdin",
     "output_type": "stream",
     "text": [
      "Enter name= ram\n",
      "Enter age= 2\n",
      "Enter add= pat\n",
      "Enter name= sam\n",
      "Enter age= 4\n",
      "Enter add= url\n"
     ]
    },
    {
     "name": "stdout",
     "output_type": "stream",
     "text": [
      "\n"
     ]
    }
   ],
   "source": [
    "a=\"\"\n",
    "for i in range (2):\n",
    "    name=input(\"Enter name=\")\n",
    "    age=int(input(\"Enter age=\"))\n",
    "    add=input(\"Enter add=\")\n",
    "    x=a+name+str(age)+\" \"+add+\"\\n\"\n",
    "print(a)"
   ]
  },
  {
   "cell_type": "code",
   "execution_count": 3,
   "id": "69963a04-aec6-4700-a3c3-322aa1384340",
   "metadata": {},
   "outputs": [
    {
     "name": "stdin",
     "output_type": "stream",
     "text": [
      "Enter n= 5\n"
     ]
    },
    {
     "name": "stdout",
     "output_type": "stream",
     "text": [
      "1\n",
      "2\n",
      "6\n",
      "24\n",
      "120\n"
     ]
    }
   ],
   "source": [
    "fac=1\n",
    "n=int(input(\"Enter n=\"))\n",
    "for i in range(1,n+1):\n",
    "    fac=fac*i\n",
    "    print(fac)"
   ]
  },
  {
   "cell_type": "code",
   "execution_count": null,
   "id": "8320278f-782b-4867-bf38-58548d66cfa2",
   "metadata": {},
   "outputs": [],
   "source": [
    "#WAP to create a billing system?\n",
    "#name=?\n",
    "#price=?\n",
    "#qty=?\n",
    "#total=?"
   ]
  },
  {
   "cell_type": "code",
   "execution_count": null,
   "id": "42803aa4-ea12-4617-842a-376886a237f0",
   "metadata": {},
   "outputs": [],
   "source": []
  },
  {
   "cell_type": "code",
   "execution_count": null,
   "id": "272f9b98-4e39-48a3-9351-5bc6179e42d0",
   "metadata": {},
   "outputs": [],
   "source": []
  }
 ],
 "metadata": {
  "kernelspec": {
   "display_name": "Python 3 (ipykernel)",
   "language": "python",
   "name": "python3"
  },
  "language_info": {
   "codemirror_mode": {
    "name": "ipython",
    "version": 3
   },
   "file_extension": ".py",
   "mimetype": "text/x-python",
   "name": "python",
   "nbconvert_exporter": "python",
   "pygments_lexer": "ipython3",
   "version": "3.11.7"
  }
 },
 "nbformat": 4,
 "nbformat_minor": 5
}
