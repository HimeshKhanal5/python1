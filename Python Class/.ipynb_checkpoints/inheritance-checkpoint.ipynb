{
 "cells": [
  {
   "cell_type": "code",
   "execution_count": null,
   "id": "099a178e-394b-40aa-9b7a-e110986a1b0e",
   "metadata": {},
   "outputs": [],
   "source": [
    "class A:\n",
    "    pass\n",
    "class B:\n",
    "    pass\n",
    "obj=B()"
   ]
  },
  {
   "cell_type": "code",
   "execution_count": null,
   "id": "4a9410d6-6bd0-4817-a091-eaec3711dbb2",
   "metadata": {},
   "outputs": [],
   "source": [
    "class Data:\n",
    "    def __init__(self,name,age,add):\n",
    "        self.name=\"Ram Pandit\"\n",
    "        self.age=18\n",
    "        self.add=\"KTM\"\n",
    "    def data(self):\n",
    "        print(self.name,self.age,self.add)\n",
    "class Info(Data):\n",
    "    def info(self):\n",
    "        print(f\"Hello World I am {self.name}.I am from {self.add}.I am {self.age}\")\n",
    "\n",
    "obj=Info(name,age,add)\n",
    "obj.info()"
   ]
  },
  {
   "cell_type": "code",
   "execution_count": 7,
   "id": "be74a4cc-4844-4154-ab83-bf2be46d0836",
   "metadata": {},
   "outputs": [
    {
     "name": "stdin",
     "output_type": "stream",
     "text": [
      "Enter name= Bla Bla\n",
      "Enter age= 25\n",
      "Enter add= Pathari\n"
     ]
    },
    {
     "name": "stdout",
     "output_type": "stream",
     "text": [
      "Hello World I am Bla Bla.I am from Pathari.I am 25\n"
     ]
    }
   ],
   "source": [
    "class Data:\n",
    "    def __init__(self,name,age,add):\n",
    "        self.name=name\n",
    "        self.age=age\n",
    "        self.add=add\n",
    "    def data(self):\n",
    "        print(self.name,self.age,self.add)\n",
    "class Info(Data):\n",
    "    def info(self):\n",
    "        print(f\"Hello World I am {self.name}.I am from {self.add}.I am {self.age}\")\n",
    "name=input(\"Enter name=\")\n",
    "age=int(input(\"Enter age=\"))\n",
    "add=input(\"Enter add=\")\n",
    "obj=Info(name,age,add)\n",
    "obj.info()"
   ]
  },
  {
   "cell_type": "code",
   "execution_count": null,
   "id": "8349003d-4b56-4130-9553-cdf1c7436f3b",
   "metadata": {},
   "outputs": [],
   "source": [
    "class A:\n",
    "    pass\n",
    "class B:\n",
    "    pass\n",
    "class C(A,B):\n",
    "    pass\n",
    "obj= C()"
   ]
  },
  {
   "cell_type": "code",
   "execution_count": null,
   "id": "22d7d3a6-05a2-4e9b-a4f7-7baafb5f1c8b",
   "metadata": {},
   "outputs": [],
   "source": [
    "# private public protectedclass Data:\n",
    "\n",
    "class Data:\n",
    "    def __init__(self,name,age,add):\n",
    "        self.name=\"Ram Pandit\"\n",
    "        self.age=18\n",
    "        self.add=\"KTM\"\n",
    "    def data(self):\n",
    "        print(self.name,self.age,self.add)\n",
    "class Info(Data):\n",
    "    def info(self):\n",
    "        print(f\"Hello World I am {self.name}.I am from {self.add}.I am {self.age}\")\n",
    "\n",
    "obj=Info(name,age,add)\n",
    "obj.info()"
   ]
  },
  {
   "cell_type": "code",
   "execution_count": null,
   "id": "f1eb6699-036a-4fce-b721-2a7f8b490d13",
   "metadata": {},
   "outputs": [],
   "source": []
  },
  {
   "cell_type": "code",
   "execution_count": null,
   "id": "20716ad0-8b58-434b-94cd-9b85e54b39f6",
   "metadata": {},
   "outputs": [],
   "source": []
  },
  {
   "cell_type": "code",
   "execution_count": null,
   "id": "b785703a-76ab-4472-ab58-a3c021a1e675",
   "metadata": {},
   "outputs": [],
   "source": []
  }
 ],
 "metadata": {
  "kernelspec": {
   "display_name": "Python 3 (ipykernel)",
   "language": "python",
   "name": "python3"
  },
  "language_info": {
   "codemirror_mode": {
    "name": "ipython",
    "version": 3
   },
   "file_extension": ".py",
   "mimetype": "text/x-python",
   "name": "python",
   "nbconvert_exporter": "python",
   "pygments_lexer": "ipython3",
   "version": "3.11.7"
  }
 },
 "nbformat": 4,
 "nbformat_minor": 5
}
