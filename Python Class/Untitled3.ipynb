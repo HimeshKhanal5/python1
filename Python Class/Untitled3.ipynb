{
 "cells": [
  {
   "cell_type": "code",
   "execution_count": 9,
   "id": "b1b283ec-5f69-4232-b75a-c6a384c05c84",
   "metadata": {},
   "outputs": [
    {
     "name": "stdout",
     "output_type": "stream",
     "text": [
      "Sam\n",
      "<class '__main__.Info'>\n",
      "Sam\n"
     ]
    }
   ],
   "source": [
    "# str method\n",
    "class Info:\n",
    "    def __init__(self):\n",
    "        self.name=\"Sam\"\n",
    "        self.age=30\n",
    "        self.add=\"pathari\"\n",
    "    def __str__(self):\n",
    "        return self.name\n",
    "        return self.age\n",
    "        return self.add\n",
    "\n",
    "obj=Info()\n",
    "print(obj)\n",
    "print(type(obj))\n",
    "obj.__str__()\n",
    "print(str(obj))"
   ]
  },
  {
   "cell_type": "code",
   "execution_count": 10,
   "id": "3c11b1e1-28d8-46c7-ab27-1f2cec376078",
   "metadata": {},
   "outputs": [
    {
     "name": "stdout",
     "output_type": "stream",
     "text": [
      "This is init method 1000\n",
      "This is init method 2000\n",
      "This is init method 2500\n",
      "This is add method 3000\n",
      "This is init method 3000\n",
      "This is add method 5500\n",
      "This is init method 5500\n",
      "This is str method 5500\n",
      "5500\n"
     ]
    }
   ],
   "source": [
    "class Point:\n",
    "    def __init__(self,x=0):\n",
    "        self.x=x\n",
    "        print(\"This is init method\",self.x)\n",
    "    def __str__(self):\n",
    "        print(\"This is str method\",self.x)\n",
    "        return str(self.x)\n",
    "    def __add__(self,other):\n",
    "        x=self.x+other.x\n",
    "        print (\"This is add method\",x)\n",
    "        return Point(x)\n",
    "p1=Point(1000)\n",
    "p2=Point(2000)\n",
    "p3=Point(2500)\n",
    "\n",
    "print(p1+p2+p3)"
   ]
  },
  {
   "cell_type": "code",
   "execution_count": 11,
   "id": "13e64a17-1224-46e1-b168-70b299b0c156",
   "metadata": {},
   "outputs": [
    {
     "name": "stdout",
     "output_type": "stream",
     "text": [
      "Parrot can fly\n",
      "Penguin can't fly\n"
     ]
    }
   ],
   "source": [
    "class Parrot:\n",
    "    def fly(self):\n",
    "        print(\"Parrot can fly\")\n",
    "    def swim(self):\n",
    "        print(\"Parrot can't swim\")\n",
    "class Penguin:\n",
    "    def fly(self):\n",
    "        print(\"Penguin can't fly\")\n",
    "    def swim(self):\n",
    "        print(\"Penguin can swim\")\n",
    "def flying_test(bird):\n",
    "    bird.fly()\n",
    "blu=Parrot()\n",
    "peggy=Penguin()\n",
    "\n",
    "flying_test(blu)\n",
    "flying_test(peggy)"
   ]
  },
  {
   "cell_type": "code",
   "execution_count": null,
   "id": "c3725164-3fa8-435d-a57f-f8a52e4eb166",
   "metadata": {},
   "outputs": [],
   "source": []
  }
 ],
 "metadata": {
  "kernelspec": {
   "display_name": "Python 3 (ipykernel)",
   "language": "python",
   "name": "python3"
  },
  "language_info": {
   "codemirror_mode": {
    "name": "ipython",
    "version": 3
   },
   "file_extension": ".py",
   "mimetype": "text/x-python",
   "name": "python",
   "nbconvert_exporter": "python",
   "pygments_lexer": "ipython3",
   "version": "3.11.7"
  }
 },
 "nbformat": 4,
 "nbformat_minor": 5
}
