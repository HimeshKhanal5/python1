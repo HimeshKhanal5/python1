{
 "cells": [
  {
   "cell_type": "code",
   "execution_count": null,
   "id": "f48ce583-998d-4c0d-b4d8-cde1b09046f6",
   "metadata": {},
   "outputs": [],
   "source": [
    "# file=open(<file_name>,<mode>)\n",
    "# file.close()\n",
    "# with open(<file name>,<mode>) as file:\n",
    "#     <operation>"
   ]
  },
  {
   "cell_type": "code",
   "execution_count": null,
   "id": "ec526e21-7234-463b-9e91-56b833ecaa46",
   "metadata": {},
   "outputs": [],
   "source": [
    "# Mode \n",
    "# create mode >x\n",
    "# read mode>r\n",
    "# write mode>w\n",
    "# append mode>a"
   ]
  },
  {
   "cell_type": "code",
   "execution_count": 10,
   "id": "46772c1c-1288-481a-8982-b52858932600",
   "metadata": {},
   "outputs": [],
   "source": [
    "# file=open('data.txt','x')\n",
    "# file.close()  "
   ]
  },
  {
   "cell_type": "code",
   "execution_count": 2,
   "id": "aa6d760b-9cde-41a1-8aac-3902da3676ad",
   "metadata": {},
   "outputs": [
    {
     "name": "stdout",
     "output_type": "stream",
     "text": [
      "1. HELLO WORLD\n",
      "2. HELLO WORLD\n",
      "3. HELLO WORLD\n",
      "4. HELLO WORLD\n"
     ]
    }
   ],
   "source": [
    "file=open('data.txt','r')\n",
    "x=file.read()\n",
    "print(x)\n",
    "file.close()"
   ]
  },
  {
   "cell_type": "code",
   "execution_count": 4,
   "id": "d986706e-2bc8-4691-a8ad-ad040e628c97",
   "metadata": {},
   "outputs": [
    {
     "name": "stdin",
     "output_type": "stream",
     "text": [
      "Enter n= 2\n",
      "Enter name= apple\n",
      "enter price= 20\n",
      "Enter qty= 2\n",
      "Enter name= ball\n",
      "enter price= 30\n",
      "Enter qty= 2\n"
     ]
    },
    {
     "name": "stdout",
     "output_type": "stream",
     "text": [
      "apple 20 2 22\n",
      "ball 30 2 32\n",
      "\n"
     ]
    }
   ],
   "source": [
    "info=\"\"\n",
    "n=int(input('Enter n='))\n",
    "for i in range (n):\n",
    "    name=input('Enter name=')\n",
    "    price=int(input('enter price='))\n",
    "    qty=int(input('Enter qty='))\n",
    "    total=price+qty\n",
    "    info=info+f\"{name} {price} {qty} {total}\\n\"\n",
    "print (info)\n",
    "\n",
    "file=open ('bill.txt','w')\n",
    "file.write(info)\n",
    "file.close()\n"
   ]
  },
  {
   "cell_type": "code",
   "execution_count": 9,
   "id": "c5c3530e-0a4e-4fa1-9790-7cb51d13379f",
   "metadata": {},
   "outputs": [
    {
     "name": "stdin",
     "output_type": "stream",
     "text": [
      "Enter n= 2\n",
      "Enter name= haha\n",
      "enter price= 2\n",
      "Enter qty= 3\n",
      "Enter name= hahaha]\n",
      "enter price= 22\n",
      "Enter qty= 2\n"
     ]
    },
    {
     "name": "stdout",
     "output_type": "stream",
     "text": [
      "haha 2 3 5\n",
      "hahaha] 22 2 24\n",
      "\n"
     ]
    }
   ],
   "source": [
    "info=\"\"\n",
    "n=int(input('Enter n='))\n",
    "for i in range (n):\n",
    "    name=input('Enter name=')\n",
    "    price=int(input('enter price='))\n",
    "    qty=int(input('Enter qty='))\n",
    "    total=price+qty\n",
    "    info=info+f\"{name} {price} {qty} {total}\\n\"\n",
    "print (info)\n",
    "\n",
    "file=open ('bill1.txt','a')\n",
    "file.write(info)\n",
    "file.close() "
   ]
  },
  {
   "cell_type": "code",
   "execution_count": 11,
   "id": "c5f41c48-cec7-4120-9514-d63f5a2253a7",
   "metadata": {},
   "outputs": [
    {
     "name": "stdin",
     "output_type": "stream",
     "text": [
      "Enter n= 2\n",
      "Enter name= ggg\n",
      "enter price= 2\n",
      "Enter qty= 3\n",
      "Enter name= fff\n",
      "enter price= 2\n",
      "Enter qty= 3\n"
     ]
    },
    {
     "name": "stdout",
     "output_type": "stream",
     "text": [
      "ggg,2,3,5\n",
      "fff,2,3,5\n",
      "\n"
     ]
    }
   ],
   "source": [
    "info=\"\"\n",
    "n=int(input('Enter n='))\n",
    "for i in range (n):\n",
    "    name=input('Enter name=')\n",
    "    price=int(input('enter price='))\n",
    "    qty=int(input('Enter qty='))\n",
    "    total=price+qty\n",
    "    info=info+f\"{name},{price},{qty},{total}\\n\"\n",
    "print (info)\n",
    "\n",
    "file=open ('bill.csv','w')\n",
    "file.write(info)\n",
    "file.close() "
   ]
  },
  {
   "cell_type": "code",
   "execution_count": 14,
   "id": "7355d5fb-4c8a-4bcf-a847-942449ca1959",
   "metadata": {},
   "outputs": [
    {
     "data": {
      "text/plain": [
       "[['ggg', '2', '3', '5'], ['fff', '2', '3', '5']]"
      ]
     },
     "execution_count": 14,
     "metadata": {},
     "output_type": "execute_result"
    }
   ],
   "source": [
    "file=open('bill.csv','r')\n",
    "data=file.read()\n",
    "file.close()\n",
    "l=data.split('\\n')[0:-1]\n",
    "l\n",
    "final_data=[]\n",
    "for i in l:\n",
    "    final_data.append(i.split(','))\n",
    "final_data"
   ]
  },
  {
   "cell_type": "code",
   "execution_count": 15,
   "id": "8a3f576e-ac0a-434f-9bc6-90904e0d4c80",
   "metadata": {},
   "outputs": [],
   "source": [
    "import csv\n",
    "file=open('bill.csv','w')\n",
    "x=csv.writer(file)\n",
    "x.writerows(final_data)\n",
    "file.close()"
   ]
  },
  {
   "cell_type": "code",
   "execution_count": null,
   "id": "ca9f4a3d-9334-479a-97dd-829fcb943f50",
   "metadata": {},
   "outputs": [],
   "source": []
  }
 ],
 "metadata": {
  "kernelspec": {
   "display_name": "Python 3 (ipykernel)",
   "language": "python",
   "name": "python3"
  },
  "language_info": {
   "codemirror_mode": {
    "name": "ipython",
    "version": 3
   },
   "file_extension": ".py",
   "mimetype": "text/x-python",
   "name": "python",
   "nbconvert_exporter": "python",
   "pygments_lexer": "ipython3",
   "version": "3.11.7"
  }
 },
 "nbformat": 4,
 "nbformat_minor": 5
}
