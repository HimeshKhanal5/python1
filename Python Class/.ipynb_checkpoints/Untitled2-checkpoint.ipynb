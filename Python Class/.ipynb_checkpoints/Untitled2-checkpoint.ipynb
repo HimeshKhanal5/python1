{
 "cells": [
  {
   "cell_type": "code",
   "execution_count": 3,
   "id": "85da2b90-008f-4dc8-bc40-702550b93c0b",
   "metadata": {},
   "outputs": [
    {
     "name": "stdout",
     "output_type": "stream",
     "text": [
      "Requirement already satisfied: mysql-connector-python in c:\\users\\dell\\anaconda3\\lib\\site-packages (8.4.0)\n"
     ]
    }
   ],
   "source": [
    "!pip install mysql-connector-python"
   ]
  },
  {
   "cell_type": "code",
   "execution_count": 12,
   "id": "3e6caec4-f36d-415b-b58e-1b08aebc5d58",
   "metadata": {},
   "outputs": [],
   "source": [
    "import mysql.connector\n",
    "database=mysql.connector.connect(\n",
    "    host=\"localhost\",\n",
    "    user=\"root\",\n",
    "    password=\"\",\n",
    "    database=\"student\")\n",
    "db=database.cursor()"
   ]
  },
  {
   "cell_type": "code",
   "execution_count": 14,
   "id": "d62a1f14-00d7-41aa-8d37-cc2caaf3a713",
   "metadata": {},
   "outputs": [
    {
     "name": "stdout",
     "output_type": "stream",
     "text": [
      "(33, 36, 66, 88)\n"
     ]
    }
   ],
   "source": [
    "db.execute(\"SELECT * FROM student1\")\n",
    "result=db.fetchall()\n",
    "for x in result:\n",
    "    print(x)"
   ]
  },
  {
   "cell_type": "code",
   "execution_count": 18,
   "id": "96e4c2bf-b9aa-4c99-9f26-54bc0fd0d7dd",
   "metadata": {},
   "outputs": [],
   "source": [
    "sql='''INSERT INTO `student1` (`science`, `maths`, `english`, `nepali`) VALUES ('44', '45', '22', '22');'''\n",
    "db.execute(sql)\n",
    "database.commit()"
   ]
  },
  {
   "cell_type": "code",
   "execution_count": null,
   "id": "3f35dcae-4392-4560-b6fd-869698ed64b3",
   "metadata": {},
   "outputs": [],
   "source": []
  }
 ],
 "metadata": {
  "kernelspec": {
   "display_name": "Python 3 (ipykernel)",
   "language": "python",
   "name": "python3"
  },
  "language_info": {
   "codemirror_mode": {
    "name": "ipython",
    "version": 3
   },
   "file_extension": ".py",
   "mimetype": "text/x-python",
   "name": "python",
   "nbconvert_exporter": "python",
   "pygments_lexer": "ipython3",
   "version": "3.11.7"
  }
 },
 "nbformat": 4,
 "nbformat_minor": 5
}
