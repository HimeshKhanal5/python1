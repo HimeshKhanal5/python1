{
 "cells": [
  {
   "cell_type": "code",
   "execution_count": 2,
   "id": "37936250-45c8-4c82-9df1-7bce8c1b53a2",
   "metadata": {},
   "outputs": [
    {
     "name": "stdout",
     "output_type": "stream",
     "text": [
      "Hello World\n"
     ]
    }
   ],
   "source": [
    "class Hello:                                #class\n",
    "    def hello(self):                            #method\n",
    "        print(\"Hello World\")\n",
    "obj=Hello()                                 #object\n",
    "obj.hello()                                 #class method"
   ]
  },
  {
   "cell_type": "code",
   "execution_count": 3,
   "id": "6d7b6fe1-8c8f-4610-99b1-764fc2be6614",
   "metadata": {},
   "outputs": [
    {
     "name": "stdout",
     "output_type": "stream",
     "text": [
      "Hello World\n"
     ]
    }
   ],
   "source": [
    "class Hello:                                  #class\n",
    "    @staticmethod                             \n",
    "    def hello():                            #method\n",
    "        print(\"Hello World\")\n",
    "obj=Hello()                                 #object\n",
    "obj.hello()                                 #class method"
   ]
  },
  {
   "cell_type": "code",
   "execution_count": 9,
   "id": "bcfccf99-51fd-43a2-936f-42e18a677faa",
   "metadata": {},
   "outputs": [
    {
     "name": "stdout",
     "output_type": "stream",
     "text": [
      "10\n"
     ]
    }
   ],
   "source": [
    "class Area:                                #class\n",
    "    def area(self,l,b):\n",
    "        a=l*b\n",
    "        print(a)\n",
    "obj=Area()\n",
    "l=2\n",
    "b=5\n",
    "obj.area(l,b)                                 #class method"
   ]
  },
  {
   "cell_type": "code",
   "execution_count": 14,
   "id": "ab90ad17-4abf-4704-b1f5-5161223676fa",
   "metadata": {},
   "outputs": [
    {
     "name": "stdout",
     "output_type": "stream",
     "text": [
      "10\n"
     ]
    }
   ],
   "source": [
    "class Area:\n",
    "    def __init__(self,l,b):\n",
    "        self.l =l\n",
    "        self.b =b\n",
    "    def area(self):\n",
    "        a=self.l*self.b\n",
    "        print(a)\n",
    "l=2\n",
    "b=5\n",
    "obj=Area(l,b)\n",
    "obj.area()"
   ]
  },
  {
   "cell_type": "code",
   "execution_count": 17,
   "id": "313a3e60-3c5d-4808-a4d2-2675bf757203",
   "metadata": {},
   "outputs": [
    {
     "name": "stdout",
     "output_type": "stream",
     "text": [
      "10\n",
      "20\n"
     ]
    }
   ],
   "source": [
    "class Cal:\n",
    "    def __init__(self,l,b,h):\n",
    "        self.l =l\n",
    "        self.b =b\n",
    "        self.h =h\n",
    "        \n",
    "    def area(self):\n",
    "        a=self.l*self.b\n",
    "        print(a)\n",
    "\n",
    "    \n",
    "    def volume(self):\n",
    "        v=self.l*self.b*self.h\n",
    "        print(v)\n",
    "l=2\n",
    "b=5\n",
    "h=2\n",
    "obj=Cal(l,b,h)\n",
    "obj.area()\n",
    "obj.volume()"
   ]
  },
  {
   "cell_type": "code",
   "execution_count": 19,
   "id": "21a70b69-45f3-42ff-87f8-5fd323a5e664",
   "metadata": {},
   "outputs": [
    {
     "ename": "TypeError",
     "evalue": "Cal.__init__() missing 3 required positional arguments: 'l', 'b', and 'h'",
     "output_type": "error",
     "traceback": [
      "\u001b[1;31m---------------------------------------------------------------------------\u001b[0m",
      "\u001b[1;31mTypeError\u001b[0m                                 Traceback (most recent call last)",
      "Cell \u001b[1;32mIn[19], line 16\u001b[0m\n\u001b[0;32m     13\u001b[0m         v\u001b[38;5;241m=\u001b[39m\u001b[38;5;28mself\u001b[39m\u001b[38;5;241m.\u001b[39ml\u001b[38;5;241m*\u001b[39m\u001b[38;5;28mself\u001b[39m\u001b[38;5;241m.\u001b[39mb\u001b[38;5;241m*\u001b[39m\u001b[38;5;28mself\u001b[39m\u001b[38;5;241m.\u001b[39mh\n\u001b[0;32m     14\u001b[0m         \u001b[38;5;28mprint\u001b[39m(v)\n\u001b[1;32m---> 16\u001b[0m obj\u001b[38;5;241m=\u001b[39mCal()\n\u001b[0;32m     17\u001b[0m obj\u001b[38;5;241m.\u001b[39marea()\n\u001b[0;32m     18\u001b[0m obj\u001b[38;5;241m.\u001b[39mvolume()\n",
      "\u001b[1;31mTypeError\u001b[0m: Cal.__init__() missing 3 required positional arguments: 'l', 'b', and 'h'"
     ]
    }
   ],
   "source": [
    "class Cal:\n",
    "    def __init__(self,l,b,h):\n",
    "        self.l =int(input(\"enter l=\"))\n",
    "        self.b =int(input(\"enter b=\"))\n",
    "        self.h =int(input(\"enterh=\"))\n",
    "        \n",
    "    def area(self):\n",
    "        a=self.l*self.b\n",
    "        print(a)\n",
    "\n",
    "    \n",
    "    def volume(self):\n",
    "        v=self.l*self.b*self.h\n",
    "        print(v)\n",
    "\n",
    "obj=Cal()\n",
    "obj.area()\n",
    "obj.volume()"
   ]
  },
  {
   "cell_type": "code",
   "execution_count": null,
   "id": "1bb03f70-667d-4f2c-8b33-9ad769d4299a",
   "metadata": {},
   "outputs": [],
   "source": [
    "   "
   ]
  },
  {
   "cell_type": "code",
   "execution_count": null,
   "id": "9b5919ed-f1e6-4330-888d-5a66bb004501",
   "metadata": {},
   "outputs": [],
   "source": []
  },
  {
   "cell_type": "code",
   "execution_count": null,
   "id": "e58d8a5f-dda4-4dcc-8dcb-236c694c12dd",
   "metadata": {},
   "outputs": [],
   "source": []
  },
  {
   "cell_type": "code",
   "execution_count": null,
   "id": "402a0de4-3c1e-411c-aed4-b73019d09e14",
   "metadata": {},
   "outputs": [],
   "source": []
  },
  {
   "cell_type": "code",
   "execution_count": null,
   "id": "6f274acb-bb53-4fe7-bcb3-0f5a6d7e68d5",
   "metadata": {},
   "outputs": [],
   "source": []
  },
  {
   "cell_type": "code",
   "execution_count": null,
   "id": "8ef6aa27-7668-423a-a7f1-1013764fa1f3",
   "metadata": {},
   "outputs": [],
   "source": []
  }
 ],
 "metadata": {
  "kernelspec": {
   "display_name": "Python 3 (ipykernel)",
   "language": "python",
   "name": "python3"
  },
  "language_info": {
   "codemirror_mode": {
    "name": "ipython",
    "version": 3
   },
   "file_extension": ".py",
   "mimetype": "text/x-python",
   "name": "python",
   "nbconvert_exporter": "python",
   "pygments_lexer": "ipython3",
   "version": "3.11.7"
  }
 },
 "nbformat": 4,
 "nbformat_minor": 5
}
